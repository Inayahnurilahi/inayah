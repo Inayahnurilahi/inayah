{
  "cells": [
    {
      "cell_type": "markdown",
      "metadata": {
        "id": "LHSEjvoLAsct"
      },
      "source": [
        "Inayah Nur Ilahi S.R (H071201026)"
      ]
    },
    {
      "cell_type": "markdown",
      "source": [
        "Lakukan import Library Pandas dan Library Numpy"
      ],
      "metadata": {
        "id": "7wDnFzaoJXeh"
      }
    },
    {
      "cell_type": "code",
      "execution_count": null,
      "metadata": {
        "id": "O_5_0d7e7cV4"
      },
      "outputs": [],
      "source": [
        "import numpy as np \n",
        "import pandas as pd\n",
        "import matplotlib.pyplot as plt \n",
        "import seaborn as sns"
      ]
    },
    {
      "cell_type": "markdown",
      "source": [
        "Panggil file (load dataset) dengan format .csv untuk dataset mengenai HOUSE PRICE PREDICTION yang sudah diunduh dari Kaggle, dan akan disimpan di dalam dataframe df. Lalu tampilkan 5 baris awal dataset dengan function head()"
      ],
      "metadata": {
        "id": "cMHFF606JSF9"
      }
    },
    {
      "cell_type": "code",
      "execution_count": null,
      "metadata": {
        "colab": {
          "base_uri": "https://localhost:8080/",
          "height": 206
        },
        "id": "68thUQBnAF4o",
        "outputId": "223116b7-6c3f-4d20-c825-2553f1128765"
      },
      "outputs": [
        {
          "output_type": "execute_result",
          "data": {
            "text/plain": [
              "   area  bedrooms  age   price\n",
              "0  2600       3.0   20  550000\n",
              "1  3000       4.0   15  565000\n",
              "2  3200       NaN   18  610000\n",
              "3  3600       3.0   30  595000\n",
              "4  4000       5.0    8  760000"
            ],
            "text/html": [
              "\n",
              "  <div id=\"df-1ea75346-0c17-49ba-866c-31f173bae6ac\">\n",
              "    <div class=\"colab-df-container\">\n",
              "      <div>\n",
              "<style scoped>\n",
              "    .dataframe tbody tr th:only-of-type {\n",
              "        vertical-align: middle;\n",
              "    }\n",
              "\n",
              "    .dataframe tbody tr th {\n",
              "        vertical-align: top;\n",
              "    }\n",
              "\n",
              "    .dataframe thead th {\n",
              "        text-align: right;\n",
              "    }\n",
              "</style>\n",
              "<table border=\"1\" class=\"dataframe\">\n",
              "  <thead>\n",
              "    <tr style=\"text-align: right;\">\n",
              "      <th></th>\n",
              "      <th>area</th>\n",
              "      <th>bedrooms</th>\n",
              "      <th>age</th>\n",
              "      <th>price</th>\n",
              "    </tr>\n",
              "  </thead>\n",
              "  <tbody>\n",
              "    <tr>\n",
              "      <th>0</th>\n",
              "      <td>2600</td>\n",
              "      <td>3.0</td>\n",
              "      <td>20</td>\n",
              "      <td>550000</td>\n",
              "    </tr>\n",
              "    <tr>\n",
              "      <th>1</th>\n",
              "      <td>3000</td>\n",
              "      <td>4.0</td>\n",
              "      <td>15</td>\n",
              "      <td>565000</td>\n",
              "    </tr>\n",
              "    <tr>\n",
              "      <th>2</th>\n",
              "      <td>3200</td>\n",
              "      <td>NaN</td>\n",
              "      <td>18</td>\n",
              "      <td>610000</td>\n",
              "    </tr>\n",
              "    <tr>\n",
              "      <th>3</th>\n",
              "      <td>3600</td>\n",
              "      <td>3.0</td>\n",
              "      <td>30</td>\n",
              "      <td>595000</td>\n",
              "    </tr>\n",
              "    <tr>\n",
              "      <th>4</th>\n",
              "      <td>4000</td>\n",
              "      <td>5.0</td>\n",
              "      <td>8</td>\n",
              "      <td>760000</td>\n",
              "    </tr>\n",
              "  </tbody>\n",
              "</table>\n",
              "</div>\n",
              "      <button class=\"colab-df-convert\" onclick=\"convertToInteractive('df-1ea75346-0c17-49ba-866c-31f173bae6ac')\"\n",
              "              title=\"Convert this dataframe to an interactive table.\"\n",
              "              style=\"display:none;\">\n",
              "        \n",
              "  <svg xmlns=\"http://www.w3.org/2000/svg\" height=\"24px\"viewBox=\"0 0 24 24\"\n",
              "       width=\"24px\">\n",
              "    <path d=\"M0 0h24v24H0V0z\" fill=\"none\"/>\n",
              "    <path d=\"M18.56 5.44l.94 2.06.94-2.06 2.06-.94-2.06-.94-.94-2.06-.94 2.06-2.06.94zm-11 1L8.5 8.5l.94-2.06 2.06-.94-2.06-.94L8.5 2.5l-.94 2.06-2.06.94zm10 10l.94 2.06.94-2.06 2.06-.94-2.06-.94-.94-2.06-.94 2.06-2.06.94z\"/><path d=\"M17.41 7.96l-1.37-1.37c-.4-.4-.92-.59-1.43-.59-.52 0-1.04.2-1.43.59L10.3 9.45l-7.72 7.72c-.78.78-.78 2.05 0 2.83L4 21.41c.39.39.9.59 1.41.59.51 0 1.02-.2 1.41-.59l7.78-7.78 2.81-2.81c.8-.78.8-2.07 0-2.86zM5.41 20L4 18.59l7.72-7.72 1.47 1.35L5.41 20z\"/>\n",
              "  </svg>\n",
              "      </button>\n",
              "      \n",
              "  <style>\n",
              "    .colab-df-container {\n",
              "      display:flex;\n",
              "      flex-wrap:wrap;\n",
              "      gap: 12px;\n",
              "    }\n",
              "\n",
              "    .colab-df-convert {\n",
              "      background-color: #E8F0FE;\n",
              "      border: none;\n",
              "      border-radius: 50%;\n",
              "      cursor: pointer;\n",
              "      display: none;\n",
              "      fill: #1967D2;\n",
              "      height: 32px;\n",
              "      padding: 0 0 0 0;\n",
              "      width: 32px;\n",
              "    }\n",
              "\n",
              "    .colab-df-convert:hover {\n",
              "      background-color: #E2EBFA;\n",
              "      box-shadow: 0px 1px 2px rgba(60, 64, 67, 0.3), 0px 1px 3px 1px rgba(60, 64, 67, 0.15);\n",
              "      fill: #174EA6;\n",
              "    }\n",
              "\n",
              "    [theme=dark] .colab-df-convert {\n",
              "      background-color: #3B4455;\n",
              "      fill: #D2E3FC;\n",
              "    }\n",
              "\n",
              "    [theme=dark] .colab-df-convert:hover {\n",
              "      background-color: #434B5C;\n",
              "      box-shadow: 0px 1px 3px 1px rgba(0, 0, 0, 0.15);\n",
              "      filter: drop-shadow(0px 1px 2px rgba(0, 0, 0, 0.3));\n",
              "      fill: #FFFFFF;\n",
              "    }\n",
              "  </style>\n",
              "\n",
              "      <script>\n",
              "        const buttonEl =\n",
              "          document.querySelector('#df-1ea75346-0c17-49ba-866c-31f173bae6ac button.colab-df-convert');\n",
              "        buttonEl.style.display =\n",
              "          google.colab.kernel.accessAllowed ? 'block' : 'none';\n",
              "\n",
              "        async function convertToInteractive(key) {\n",
              "          const element = document.querySelector('#df-1ea75346-0c17-49ba-866c-31f173bae6ac');\n",
              "          const dataTable =\n",
              "            await google.colab.kernel.invokeFunction('convertToInteractive',\n",
              "                                                     [key], {});\n",
              "          if (!dataTable) return;\n",
              "\n",
              "          const docLinkHtml = 'Like what you see? Visit the ' +\n",
              "            '<a target=\"_blank\" href=https://colab.research.google.com/notebooks/data_table.ipynb>data table notebook</a>'\n",
              "            + ' to learn more about interactive tables.';\n",
              "          element.innerHTML = '';\n",
              "          dataTable['output_type'] = 'display_data';\n",
              "          await google.colab.output.renderOutput(dataTable, element);\n",
              "          const docLink = document.createElement('div');\n",
              "          docLink.innerHTML = docLinkHtml;\n",
              "          element.appendChild(docLink);\n",
              "        }\n",
              "      </script>\n",
              "    </div>\n",
              "  </div>\n",
              "  "
            ]
          },
          "metadata": {},
          "execution_count": 13
        }
      ],
      "source": [
        "df  = pd.read_csv('/content/minihomeprices.csv')\n",
        "df.head()"
      ]
    },
    {
      "cell_type": "markdown",
      "source": [
        "Hitunglah ukuran (jumlah baris dan kolom) dari dataset. Dengan menggunakan method function"
      ],
      "metadata": {
        "id": "AjqanX5xJrOS"
      }
    },
    {
      "cell_type": "code",
      "execution_count": null,
      "metadata": {
        "colab": {
          "base_uri": "https://localhost:8080/"
        },
        "id": "iEwh9jBIHE-T",
        "outputId": "c76cc503-eea6-4ca1-9d47-4be8cad464ff"
      },
      "outputs": [
        {
          "output_type": "stream",
          "name": "stdout",
          "text": [
            "<class 'pandas.core.frame.DataFrame'>\n",
            "RangeIndex: 6 entries, 0 to 5\n",
            "Data columns (total 4 columns):\n",
            " #   Column    Non-Null Count  Dtype  \n",
            "---  ------    --------------  -----  \n",
            " 0   area      6 non-null      int64  \n",
            " 1   bedrooms  5 non-null      float64\n",
            " 2   age       6 non-null      int64  \n",
            " 3   price     6 non-null      int64  \n",
            "dtypes: float64(1), int64(3)\n",
            "memory usage: 320.0 bytes\n"
          ]
        }
      ],
      "source": [
        "df.info()"
      ]
    },
    {
      "cell_type": "markdown",
      "source": [
        "Method \"describe\" secara otomatis melakukan komputasi statistik untuk semua continous variable. Secara default \"describe\" melakukan ignore terhadap variabel bertype objek.\n",
        "\n",
        "Komputasi statistik yang dilakukan terdiri dari: count, mean, std, min, max, 25%, 75%, max.\n",
        "\n",
        "Latihan: Gunakan method describe pada dataset yang sudah di load untuk semua continous variabel. (Dataset Iris.csv)"
      ],
      "metadata": {
        "id": "mMM8rKi8J1Si"
      }
    },
    {
      "cell_type": "markdown",
      "source": [
        "kita akan melihat informasi-informasi statistik dasar yang ada pada data. Disini kita bisa melihat nilai minimum,maximal,standar deviasi, nilai tengah"
      ],
      "metadata": {
        "id": "k3XLqXqrLCsC"
      }
    },
    {
      "cell_type": "code",
      "execution_count": null,
      "metadata": {
        "colab": {
          "base_uri": "https://localhost:8080/",
          "height": 300
        },
        "id": "JXDUgMzCIJKL",
        "outputId": "86cb8698-3f41-4f63-bc9d-9540ef10ca50"
      },
      "outputs": [
        {
          "output_type": "execute_result",
          "data": {
            "text/plain": [
              "<pandas.io.formats.style.Styler at 0x7fe2b345dfa0>"
            ],
            "text/html": [
              "<style type=\"text/css\">\n",
              "#T_48bcf_row0_col0, #T_48bcf_row0_col2, #T_48bcf_row0_col3, #T_48bcf_row2_col1 {\n",
              "  background-color: #000000;\n",
              "  color: #f1f1f1;\n",
              "}\n",
              "#T_48bcf_row0_col1, #T_48bcf_row6_col1 {\n",
              "  background-color: #e6cb39;\n",
              "  color: #000000;\n",
              "}\n",
              "#T_48bcf_row1_col0 {\n",
              "  background-color: #e6d95f;\n",
              "  color: #000000;\n",
              "}\n",
              "#T_48bcf_row1_col1 {\n",
              "  background-color: #e77b03;\n",
              "  color: #f1f1f1;\n",
              "}\n",
              "#T_48bcf_row1_col2, #T_48bcf_row5_col2 {\n",
              "  background-color: #cd3a52;\n",
              "  color: #f1f1f1;\n",
              "}\n",
              "#T_48bcf_row1_col3 {\n",
              "  background-color: #e6cf42;\n",
              "  color: #000000;\n",
              "}\n",
              "#T_48bcf_row2_col0 {\n",
              "  background-color: #2b2688;\n",
              "  color: #f1f1f1;\n",
              "}\n",
              "#T_48bcf_row2_col2 {\n",
              "  background-color: #1d1d60;\n",
              "  color: #f1f1f1;\n",
              "}\n",
              "#T_48bcf_row2_col3 {\n",
              "  background-color: #292684;\n",
              "  color: #f1f1f1;\n",
              "}\n",
              "#T_48bcf_row3_col0 {\n",
              "  background-color: #e68502;\n",
              "  color: #f1f1f1;\n",
              "}\n",
              "#T_48bcf_row3_col1, #T_48bcf_row4_col1 {\n",
              "  background-color: #903287;\n",
              "  color: #f1f1f1;\n",
              "}\n",
              "#T_48bcf_row3_col2 {\n",
              "  background-color: #191954;\n",
              "  color: #f1f1f1;\n",
              "}\n",
              "#T_48bcf_row3_col3 {\n",
              "  background-color: #e69b0b;\n",
              "  color: #f1f1f1;\n",
              "}\n",
              "#T_48bcf_row4_col0, #T_48bcf_row5_col3 {\n",
              "  background-color: #e6bd18;\n",
              "  color: #000000;\n",
              "}\n",
              "#T_48bcf_row4_col2 {\n",
              "  background-color: #302690;\n",
              "  color: #f1f1f1;\n",
              "}\n",
              "#T_48bcf_row4_col3 {\n",
              "  background-color: #e6a910;\n",
              "  color: #000000;\n",
              "}\n",
              "#T_48bcf_row5_col0 {\n",
              "  background-color: #e6d85c;\n",
              "  color: #000000;\n",
              "}\n",
              "#T_48bcf_row5_col1 {\n",
              "  background-color: #f06510;\n",
              "  color: #f1f1f1;\n",
              "}\n",
              "#T_48bcf_row6_col0 {\n",
              "  background-color: #f5f5cf;\n",
              "  color: #000000;\n",
              "}\n",
              "#T_48bcf_row6_col2 {\n",
              "  background-color: #f26112;\n",
              "  color: #f1f1f1;\n",
              "}\n",
              "#T_48bcf_row6_col3 {\n",
              "  background-color: #e9e993;\n",
              "  color: #000000;\n",
              "}\n",
              "#T_48bcf_row7_col0, #T_48bcf_row7_col1, #T_48bcf_row7_col2, #T_48bcf_row7_col3 {\n",
              "  background-color: #ffffff;\n",
              "  color: #000000;\n",
              "}\n",
              "</style>\n",
              "<table id=\"T_48bcf_\" class=\"dataframe\">\n",
              "  <thead>\n",
              "    <tr>\n",
              "      <th class=\"blank level0\" >&nbsp;</th>\n",
              "      <th class=\"col_heading level0 col0\" >area</th>\n",
              "      <th class=\"col_heading level0 col1\" >bedrooms</th>\n",
              "      <th class=\"col_heading level0 col2\" >age</th>\n",
              "      <th class=\"col_heading level0 col3\" >price</th>\n",
              "    </tr>\n",
              "  </thead>\n",
              "  <tbody>\n",
              "    <tr>\n",
              "      <th id=\"T_48bcf_level0_row0\" class=\"row_heading level0 row0\" >count</th>\n",
              "      <td id=\"T_48bcf_row0_col0\" class=\"data row0 col0\" >6.000000</td>\n",
              "      <td id=\"T_48bcf_row0_col1\" class=\"data row0 col1\" >5.000000</td>\n",
              "      <td id=\"T_48bcf_row0_col2\" class=\"data row0 col2\" >6.000000</td>\n",
              "      <td id=\"T_48bcf_row0_col3\" class=\"data row0 col3\" >6.000000</td>\n",
              "    </tr>\n",
              "    <tr>\n",
              "      <th id=\"T_48bcf_level0_row1\" class=\"row_heading level0 row1\" >mean</th>\n",
              "      <td id=\"T_48bcf_row1_col0\" class=\"data row1 col0\" >3416.666667</td>\n",
              "      <td id=\"T_48bcf_row1_col1\" class=\"data row1 col1\" >4.200000</td>\n",
              "      <td id=\"T_48bcf_row1_col2\" class=\"data row1 col2\" >16.500000</td>\n",
              "      <td id=\"T_48bcf_row1_col3\" class=\"data row1 col3\" >648333.333333</td>\n",
              "    </tr>\n",
              "    <tr>\n",
              "      <th id=\"T_48bcf_level0_row2\" class=\"row_heading level0 row2\" >std</th>\n",
              "      <td id=\"T_48bcf_row2_col0\" class=\"data row2 col0\" >587.934237</td>\n",
              "      <td id=\"T_48bcf_row2_col1\" class=\"data row2 col1\" >1.303840</td>\n",
              "      <td id=\"T_48bcf_row2_col2\" class=\"data row2 col2\" >8.288546</td>\n",
              "      <td id=\"T_48bcf_row2_col3\" class=\"data row2 col3\" >109117.673484</td>\n",
              "    </tr>\n",
              "    <tr>\n",
              "      <th id=\"T_48bcf_level0_row3\" class=\"row_heading level0 row3\" >min</th>\n",
              "      <td id=\"T_48bcf_row3_col0\" class=\"data row3 col0\" >2600.000000</td>\n",
              "      <td id=\"T_48bcf_row3_col1\" class=\"data row3 col1\" >3.000000</td>\n",
              "      <td id=\"T_48bcf_row3_col2\" class=\"data row3 col2\" >8.000000</td>\n",
              "      <td id=\"T_48bcf_row3_col3\" class=\"data row3 col3\" >550000.000000</td>\n",
              "    </tr>\n",
              "    <tr>\n",
              "      <th id=\"T_48bcf_level0_row4\" class=\"row_heading level0 row4\" >25%</th>\n",
              "      <td id=\"T_48bcf_row4_col0\" class=\"data row4 col0\" >3050.000000</td>\n",
              "      <td id=\"T_48bcf_row4_col1\" class=\"data row4 col1\" >3.000000</td>\n",
              "      <td id=\"T_48bcf_row4_col2\" class=\"data row4 col2\" >9.750000</td>\n",
              "      <td id=\"T_48bcf_row4_col3\" class=\"data row4 col3\" >572500.000000</td>\n",
              "    </tr>\n",
              "    <tr>\n",
              "      <th id=\"T_48bcf_level0_row5\" class=\"row_heading level0 row5\" >50%</th>\n",
              "      <td id=\"T_48bcf_row5_col0\" class=\"data row5 col0\" >3400.000000</td>\n",
              "      <td id=\"T_48bcf_row5_col1\" class=\"data row5 col1\" >4.000000</td>\n",
              "      <td id=\"T_48bcf_row5_col2\" class=\"data row5 col2\" >16.500000</td>\n",
              "      <td id=\"T_48bcf_row5_col3\" class=\"data row5 col3\" >602500.000000</td>\n",
              "    </tr>\n",
              "    <tr>\n",
              "      <th id=\"T_48bcf_level0_row6\" class=\"row_heading level0 row6\" >75%</th>\n",
              "      <td id=\"T_48bcf_row6_col0\" class=\"data row6 col0\" >3900.000000</td>\n",
              "      <td id=\"T_48bcf_row6_col1\" class=\"data row6 col1\" >5.000000</td>\n",
              "      <td id=\"T_48bcf_row6_col2\" class=\"data row6 col2\" >19.500000</td>\n",
              "      <td id=\"T_48bcf_row6_col3\" class=\"data row6 col3\" >722500.000000</td>\n",
              "    </tr>\n",
              "    <tr>\n",
              "      <th id=\"T_48bcf_level0_row7\" class=\"row_heading level0 row7\" >max</th>\n",
              "      <td id=\"T_48bcf_row7_col0\" class=\"data row7 col0\" >4100.000000</td>\n",
              "      <td id=\"T_48bcf_row7_col1\" class=\"data row7 col1\" >6.000000</td>\n",
              "      <td id=\"T_48bcf_row7_col2\" class=\"data row7 col2\" >30.000000</td>\n",
              "      <td id=\"T_48bcf_row7_col3\" class=\"data row7 col3\" >810000.000000</td>\n",
              "    </tr>\n",
              "  </tbody>\n",
              "</table>\n"
            ]
          },
          "metadata": {},
          "execution_count": 15
        }
      ],
      "source": [
        "df.describe().style.background_gradient(cmap='CMRmap')"
      ]
    },
    {
      "cell_type": "markdown",
      "metadata": {
        "id": "pKkoKsGyIL8i"
      },
      "source": [
        "# DATA ANALYSIS"
      ]
    },
    {
      "cell_type": "markdown",
      "source": [
        "kita melihat nilai null yang ada,\n",
        "bisa dilihat  hanya bedrooms yang bernilai null"
      ],
      "metadata": {
        "id": "UJ_-VbBQErYR"
      }
    },
    {
      "cell_type": "code",
      "execution_count": null,
      "metadata": {
        "colab": {
          "base_uri": "https://localhost:8080/"
        },
        "id": "xfOanWfOIPwm",
        "outputId": "c6f6f73b-9a55-4125-f225-4a06412dfe72"
      },
      "outputs": [
        {
          "output_type": "execute_result",
          "data": {
            "text/plain": [
              "area        0\n",
              "bedrooms    1\n",
              "age         0\n",
              "price       0\n",
              "dtype: int64"
            ]
          },
          "metadata": {},
          "execution_count": 16
        }
      ],
      "source": [
        "df.isna().sum()\n"
      ]
    },
    {
      "cell_type": "markdown",
      "source": [
        "Disini kita mengubah nilai null menjadi nilai median"
      ],
      "metadata": {
        "id": "TtbMMWQCFAgN"
      }
    },
    {
      "cell_type": "markdown",
      "source": [
        "\n",
        "di sini kita juga bisa menggunakan inplace=True. keduanya valid untuk memperbarui bingkai data"
      ],
      "metadata": {
        "id": "e2BXEtO_FL8C"
      }
    },
    {
      "cell_type": "code",
      "execution_count": null,
      "metadata": {
        "colab": {
          "base_uri": "https://localhost:8080/",
          "height": 206
        },
        "id": "zOAjKP5NIWhO",
        "outputId": "f7985ae5-dede-4de0-a740-df89833c0e5c"
      },
      "outputs": [
        {
          "output_type": "execute_result",
          "data": {
            "text/plain": [
              "   area  bedrooms  age   price\n",
              "0  2600       3.0   20  550000\n",
              "1  3000       4.0   15  565000\n",
              "2  3200       4.2   18  610000\n",
              "3  3600       3.0   30  595000\n",
              "4  4000       5.0    8  760000"
            ],
            "text/html": [
              "\n",
              "  <div id=\"df-ff0598c9-c3a2-40c8-b222-1af7958a8086\">\n",
              "    <div class=\"colab-df-container\">\n",
              "      <div>\n",
              "<style scoped>\n",
              "    .dataframe tbody tr th:only-of-type {\n",
              "        vertical-align: middle;\n",
              "    }\n",
              "\n",
              "    .dataframe tbody tr th {\n",
              "        vertical-align: top;\n",
              "    }\n",
              "\n",
              "    .dataframe thead th {\n",
              "        text-align: right;\n",
              "    }\n",
              "</style>\n",
              "<table border=\"1\" class=\"dataframe\">\n",
              "  <thead>\n",
              "    <tr style=\"text-align: right;\">\n",
              "      <th></th>\n",
              "      <th>area</th>\n",
              "      <th>bedrooms</th>\n",
              "      <th>age</th>\n",
              "      <th>price</th>\n",
              "    </tr>\n",
              "  </thead>\n",
              "  <tbody>\n",
              "    <tr>\n",
              "      <th>0</th>\n",
              "      <td>2600</td>\n",
              "      <td>3.0</td>\n",
              "      <td>20</td>\n",
              "      <td>550000</td>\n",
              "    </tr>\n",
              "    <tr>\n",
              "      <th>1</th>\n",
              "      <td>3000</td>\n",
              "      <td>4.0</td>\n",
              "      <td>15</td>\n",
              "      <td>565000</td>\n",
              "    </tr>\n",
              "    <tr>\n",
              "      <th>2</th>\n",
              "      <td>3200</td>\n",
              "      <td>4.2</td>\n",
              "      <td>18</td>\n",
              "      <td>610000</td>\n",
              "    </tr>\n",
              "    <tr>\n",
              "      <th>3</th>\n",
              "      <td>3600</td>\n",
              "      <td>3.0</td>\n",
              "      <td>30</td>\n",
              "      <td>595000</td>\n",
              "    </tr>\n",
              "    <tr>\n",
              "      <th>4</th>\n",
              "      <td>4000</td>\n",
              "      <td>5.0</td>\n",
              "      <td>8</td>\n",
              "      <td>760000</td>\n",
              "    </tr>\n",
              "  </tbody>\n",
              "</table>\n",
              "</div>\n",
              "      <button class=\"colab-df-convert\" onclick=\"convertToInteractive('df-ff0598c9-c3a2-40c8-b222-1af7958a8086')\"\n",
              "              title=\"Convert this dataframe to an interactive table.\"\n",
              "              style=\"display:none;\">\n",
              "        \n",
              "  <svg xmlns=\"http://www.w3.org/2000/svg\" height=\"24px\"viewBox=\"0 0 24 24\"\n",
              "       width=\"24px\">\n",
              "    <path d=\"M0 0h24v24H0V0z\" fill=\"none\"/>\n",
              "    <path d=\"M18.56 5.44l.94 2.06.94-2.06 2.06-.94-2.06-.94-.94-2.06-.94 2.06-2.06.94zm-11 1L8.5 8.5l.94-2.06 2.06-.94-2.06-.94L8.5 2.5l-.94 2.06-2.06.94zm10 10l.94 2.06.94-2.06 2.06-.94-2.06-.94-.94-2.06-.94 2.06-2.06.94z\"/><path d=\"M17.41 7.96l-1.37-1.37c-.4-.4-.92-.59-1.43-.59-.52 0-1.04.2-1.43.59L10.3 9.45l-7.72 7.72c-.78.78-.78 2.05 0 2.83L4 21.41c.39.39.9.59 1.41.59.51 0 1.02-.2 1.41-.59l7.78-7.78 2.81-2.81c.8-.78.8-2.07 0-2.86zM5.41 20L4 18.59l7.72-7.72 1.47 1.35L5.41 20z\"/>\n",
              "  </svg>\n",
              "      </button>\n",
              "      \n",
              "  <style>\n",
              "    .colab-df-container {\n",
              "      display:flex;\n",
              "      flex-wrap:wrap;\n",
              "      gap: 12px;\n",
              "    }\n",
              "\n",
              "    .colab-df-convert {\n",
              "      background-color: #E8F0FE;\n",
              "      border: none;\n",
              "      border-radius: 50%;\n",
              "      cursor: pointer;\n",
              "      display: none;\n",
              "      fill: #1967D2;\n",
              "      height: 32px;\n",
              "      padding: 0 0 0 0;\n",
              "      width: 32px;\n",
              "    }\n",
              "\n",
              "    .colab-df-convert:hover {\n",
              "      background-color: #E2EBFA;\n",
              "      box-shadow: 0px 1px 2px rgba(60, 64, 67, 0.3), 0px 1px 3px 1px rgba(60, 64, 67, 0.15);\n",
              "      fill: #174EA6;\n",
              "    }\n",
              "\n",
              "    [theme=dark] .colab-df-convert {\n",
              "      background-color: #3B4455;\n",
              "      fill: #D2E3FC;\n",
              "    }\n",
              "\n",
              "    [theme=dark] .colab-df-convert:hover {\n",
              "      background-color: #434B5C;\n",
              "      box-shadow: 0px 1px 3px 1px rgba(0, 0, 0, 0.15);\n",
              "      filter: drop-shadow(0px 1px 2px rgba(0, 0, 0, 0.3));\n",
              "      fill: #FFFFFF;\n",
              "    }\n",
              "  </style>\n",
              "\n",
              "      <script>\n",
              "        const buttonEl =\n",
              "          document.querySelector('#df-ff0598c9-c3a2-40c8-b222-1af7958a8086 button.colab-df-convert');\n",
              "        buttonEl.style.display =\n",
              "          google.colab.kernel.accessAllowed ? 'block' : 'none';\n",
              "\n",
              "        async function convertToInteractive(key) {\n",
              "          const element = document.querySelector('#df-ff0598c9-c3a2-40c8-b222-1af7958a8086');\n",
              "          const dataTable =\n",
              "            await google.colab.kernel.invokeFunction('convertToInteractive',\n",
              "                                                     [key], {});\n",
              "          if (!dataTable) return;\n",
              "\n",
              "          const docLinkHtml = 'Like what you see? Visit the ' +\n",
              "            '<a target=\"_blank\" href=https://colab.research.google.com/notebooks/data_table.ipynb>data table notebook</a>'\n",
              "            + ' to learn more about interactive tables.';\n",
              "          element.innerHTML = '';\n",
              "          dataTable['output_type'] = 'display_data';\n",
              "          await google.colab.output.renderOutput(dataTable, element);\n",
              "          const docLink = document.createElement('div');\n",
              "          docLink.innerHTML = docLinkHtml;\n",
              "          element.appendChild(docLink);\n",
              "        }\n",
              "      </script>\n",
              "    </div>\n",
              "  </div>\n",
              "  "
            ]
          },
          "metadata": {},
          "execution_count": 17
        }
      ],
      "source": [
        "df['bedrooms'] = df['bedrooms'].fillna( df['bedrooms'].mean() )\n",
        "df.head()"
      ]
    },
    {
      "cell_type": "markdown",
      "metadata": {
        "id": "37PjmjgWIeLW"
      },
      "source": [
        "# DATA VISUALIZATION"
      ]
    },
    {
      "cell_type": "markdown",
      "source": [
        "Nan disini kita bisa melihat barplot atau diagramm pada dataset "
      ],
      "metadata": {
        "id": "04zPAEgcFQR1"
      }
    },
    {
      "cell_type": "code",
      "execution_count": null,
      "metadata": {
        "colab": {
          "base_uri": "https://localhost:8080/",
          "height": 513
        },
        "id": "25tCVyjfIkQq",
        "outputId": "ea3c2667-dbb5-42b1-b56b-edcee5544fe6"
      },
      "outputs": [
        {
          "output_type": "stream",
          "name": "stderr",
          "text": [
            "/usr/local/lib/python3.8/dist-packages/seaborn/_decorators.py:36: FutureWarning: Pass the following variables as keyword args: x, y. From version 0.12, the only valid positional argument will be `data`, and passing other arguments without an explicit keyword will result in an error or misinterpretation.\n",
            "  warnings.warn(\n"
          ]
        },
        {
          "output_type": "display_data",
          "data": {
            "text/plain": [
              "<Figure size 720x504 with 1 Axes>"
            ],
            "image/png": "[encoded data removed]"
          },
          "metadata": {
            "needs_background": "light"
          }
        }
      ],
      "source": [
        "plt.figure(figsize=(10, 7))\n",
        "plt.title(\"Bedroom wise price increase.\")\n",
        "\n",
        "sns.barplot('bedrooms', 'price', data=df)\n",
        "plt.xlabel('Bedrooms', )\n",
        "plt.ylabel('Price')\n",
        "plt.show()"
      ]
    },
    {
      "cell_type": "markdown",
      "source": [
        "selain itu kita juga bisa membuat scatter plot (diagarm yang berpencar)"
      ],
      "metadata": {
        "id": "wp6m0--BFn1n"
      }
    },
    {
      "cell_type": "markdown",
      "source": [
        "Di sini kita dapat melihat kamar tidur dan harga berhubungan secara linier, Harga Rumah meningkat jika ukuran kamar tidur akan meningkat."
      ],
      "metadata": {
        "id": "zdhql38qF1rV"
      }
    },
    {
      "cell_type": "code",
      "source": [
        "plt.figure(figsize=(10, 5))\n",
        "\n",
        "sns.scatterplot('bedrooms', 'price',data=df)\n",
        "plt.title(\"Price vs Bedroom Scatter plot\")\n",
        "\n",
        "plt.xlabel(\"House Bedrooms\")\n",
        "plt.ylabel('House Price')\n",
        "plt.show()"
      ],
      "metadata": {
        "colab": {
          "base_uri": "https://localhost:8080/",
          "height": 405
        },
        "id": "Lw5Q2ZKDWVV9",
        "outputId": "badddc6d-538c-450e-b484-91157c316c46"
      },
      "execution_count": null,
      "outputs": [
        {
          "output_type": "stream",
          "name": "stderr",
          "text": [
            "/usr/local/lib/python3.8/dist-packages/seaborn/_decorators.py:36: FutureWarning: Pass the following variables as keyword args: x, y. From version 0.12, the only valid positional argument will be `data`, and passing other arguments without an explicit keyword will result in an error or misinterpretation.\n",
            "  warnings.warn(\n"
          ]
        },
        {
          "output_type": "display_data",
          "data": {
            "text/plain": [
              "<Figure size 720x360 with 1 Axes>"
            ],
            "image/png": "[encoded data removed]"
          },
          "metadata": {
            "needs_background": "light"
          }
        }
      ]
    },
    {
      "cell_type": "code",
      "source": [
        "plt.figure(figsize=(10, 7))\n",
        "\n",
        "sns.lmplot(x=\"bedrooms\", y=\"price\", data=df);\n",
        "plt.title(\"Price and bedroom wise line plot\")\n",
        "plt.show()"
      ],
      "metadata": {
        "colab": {
          "base_uri": "https://localhost:8080/",
          "height": 402
        },
        "id": "yMK-FrdzWpQT",
        "outputId": "c6b47d58-13e8-47f0-e3dc-09b1f66e5ace"
      },
      "execution_count": null,
      "outputs": [
        {
          "output_type": "display_data",
          "data": {
            "text/plain": [
              "<Figure size 720x504 with 0 Axes>"
            ]
          },
          "metadata": {}
        },
        {
          "output_type": "display_data",
          "data": {
            "text/plain": [
              "<Figure size 360x360 with 1 Axes>"
            ],
            "image/png": "[encoded data removed]"
          },
          "metadata": {
            "needs_background": "light"
          }
        }
      ]
    },
    {
      "cell_type": "markdown",
      "source": [
        "# Model Implementing"
      ],
      "metadata": {
        "id": "fNLfUOzZWsPb"
      }
    },
    {
      "cell_type": "markdown",
      "source": [
        "pertama kita melakukan import model"
      ],
      "metadata": {
        "id": "fnxJd-b4F7uC"
      }
    },
    {
      "cell_type": "code",
      "source": [
        "from sklearn.linear_model import LinearRegression"
      ],
      "metadata": {
        "id": "vzPkeDCEWx_0"
      },
      "execution_count": null,
      "outputs": []
    },
    {
      "cell_type": "markdown",
      "source": [
        "Sekarang, Buat instance model dari kelas LinearRegression"
      ],
      "metadata": {
        "id": "--Q3YTM4GFf2"
      }
    },
    {
      "cell_type": "code",
      "source": [
        "mdl = LinearRegression()"
      ],
      "metadata": {
        "id": "FCOO1mspW1p0"
      },
      "execution_count": null,
      "outputs": []
    },
    {
      "cell_type": "markdown",
      "source": [
        "Sebelum memasang model, buat X dan y untuk pemasangan model"
      ],
      "metadata": {
        "id": "SfCKrkbTW8na"
      }
    },
    {
      "cell_type": "code",
      "source": [
        "#  Tetapkan variabel dependen dan independen\n",
        "\n",
        "X = df.drop(['price'], axis=1)\n",
        "y = df['price']"
      ],
      "metadata": {
        "id": "3Zwi9cRAXBaW"
      },
      "execution_count": null,
      "outputs": []
    },
    {
      "cell_type": "code",
      "source": [
        "# mengubah tpe data bedroom dari float menjadi int\n",
        "\n",
        "df['bedrooms'] = df['bedrooms'].astype('int64')\n",
        "\n",
        "df.info()"
      ],
      "metadata": {
        "colab": {
          "base_uri": "https://localhost:8080/"
        },
        "id": "1FWaFvHiXIek",
        "outputId": "0458d5c8-38de-401c-d7a5-35807380f702"
      },
      "execution_count": null,
      "outputs": [
        {
          "output_type": "stream",
          "name": "stdout",
          "text": [
            "<class 'pandas.core.frame.DataFrame'>\n",
            "RangeIndex: 6 entries, 0 to 5\n",
            "Data columns (total 4 columns):\n",
            " #   Column    Non-Null Count  Dtype\n",
            "---  ------    --------------  -----\n",
            " 0   area      6 non-null      int64\n",
            " 1   bedrooms  6 non-null      int64\n",
            " 2   age       6 non-null      int64\n",
            " 3   price     6 non-null      int64\n",
            "dtypes: int64(4)\n",
            "memory usage: 320.0 bytes\n"
          ]
        }
      ]
    },
    {
      "cell_type": "code",
      "source": [
        "#  melihat variabel\n",
        "print(X)\n",
        "print(\"-\" * 25)\n",
        "print(y)"
      ],
      "metadata": {
        "colab": {
          "base_uri": "https://localhost:8080/"
        },
        "id": "3qL_pl5GXTZg",
        "outputId": "0d8990de-53be-4b29-ce2c-8f40cf624408"
      },
      "execution_count": null,
      "outputs": [
        {
          "output_type": "stream",
          "name": "stdout",
          "text": [
            "   area  bedrooms  age\n",
            "0  2600       3.0   20\n",
            "1  3000       4.0   15\n",
            "2  3200       4.2   18\n",
            "3  3600       3.0   30\n",
            "4  4000       5.0    8\n",
            "5  4100       6.0    8\n",
            "-------------------------\n",
            "0    550000\n",
            "1    565000\n",
            "2    610000\n",
            "3    595000\n",
            "4    760000\n",
            "5    810000\n",
            "Name: price, dtype: int64\n"
          ]
        }
      ]
    },
    {
      "cell_type": "markdown",
      "source": [
        "\n",
        "Sekarang, Kami akan menyesuaikan data fitting the training and testing data"
      ],
      "metadata": {
        "id": "ApZt2vd_XXRb"
      }
    },
    {
      "cell_type": "code",
      "source": [
        "#  Fitting Model\n",
        "\n",
        "mdl.fit( X, y  )"
      ],
      "metadata": {
        "colab": {
          "base_uri": "https://localhost:8080/"
        },
        "id": "AzdWVcCYXZ3L",
        "outputId": "d0d47078-411c-4448-cb4d-9bedf160d71d"
      },
      "execution_count": null,
      "outputs": [
        {
          "output_type": "execute_result",
          "data": {
            "text/plain": [
              "LinearRegression()"
            ]
          },
          "metadata": {},
          "execution_count": 27
        }
      ]
    },
    {
      "cell_type": "markdown",
      "source": [
        "PREDICTION"
      ],
      "metadata": {
        "id": "_FkgEEHpXSIt"
      }
    },
    {
      "cell_type": "code",
      "source": [
        "# Sekarang sesuaikan pengujian prediksi\n",
        "\n",
        "mdl.predict([[ 4000, 2, 50 ]])\n",
        "# \n",
        "tunjukkan harga rumah di sini"
      ],
      "metadata": {
        "colab": {
          "base_uri": "https://localhost:8080/"
        },
        "id": "IAnU6TnbXgzj",
        "outputId": "46117125-7f48-44d4-dc65-e8beb08b692d"
      },
      "execution_count": null,
      "outputs": [
        {
          "output_type": "stream",
          "name": "stderr",
          "text": [
            "/usr/local/lib/python3.8/dist-packages/sklearn/base.py:450: UserWarning: X does not have valid feature names, but LinearRegression was fitted with feature names\n",
            "  warnings.warn(\n"
          ]
        },
        {
          "output_type": "execute_result",
          "data": {
            "text/plain": [
              "array([551989.04870256])"
            ]
          },
          "metadata": {},
          "execution_count": 28
        }
      ]
    },
    {
      "cell_type": "markdown",
      "source": [
        "menunjukkan Coeficient"
      ],
      "metadata": {
        "id": "ljn0jv9nXrZu"
      }
    },
    {
      "cell_type": "code",
      "source": [
        "mdl.coef_"
      ],
      "metadata": {
        "colab": {
          "base_uri": "https://localhost:8080/"
        },
        "id": "QFFsuY2-XpiU",
        "outputId": "708111ba-7b53-419f-95cb-8419fb7636a5"
      },
      "execution_count": null,
      "outputs": [
        {
          "output_type": "execute_result",
          "data": {
            "text/plain": [
              "array([  116.66950551, 18756.28806982, -3675.75111708])"
            ]
          },
          "metadata": {},
          "execution_count": 29
        }
      ]
    },
    {
      "cell_type": "markdown",
      "source": [
        "Show intecept"
      ],
      "metadata": {
        "id": "psiR7AgYXzN3"
      }
    },
    {
      "cell_type": "code",
      "source": [
        "mdl.intercept_"
      ],
      "metadata": {
        "colab": {
          "base_uri": "https://localhost:8080/"
        },
        "id": "W17uzDp7XxuC",
        "outputId": "7f445228-e6d3-4c02-e991-ad40bd784493"
      },
      "execution_count": null,
      "outputs": [
        {
          "output_type": "execute_result",
          "data": {
            "text/plain": [
              "231586.00639409182"
            ]
          },
          "metadata": {},
          "execution_count": 30
        }
      ]
    },
    {
      "cell_type": "code",
      "source": [
        "#  know score \n",
        "score = mdl.score( X, y )\n",
        "\n",
        "print(score * 100)"
      ],
      "metadata": {
        "colab": {
          "base_uri": "https://localhost:8080/"
        },
        "id": "dIu0KbM-X7WM",
        "outputId": "6233e3ef-22f1-47b0-e245-80680d784505"
      },
      "execution_count": null,
      "outputs": [
        {
          "output_type": "stream",
          "name": "stdout",
          "text": [
            "95.40926625396438\n"
          ]
        }
      ]
    }
  ],
  "metadata": {
    "colab": {
      "provenance": []
    },
    "kernelspec": {
      "display_name": "Python 3",
      "name": "python3"
    },
    "language_info": {
      "name": "python"
    }
  },
  "nbformat": 4,
  "nbformat_minor": 0
}